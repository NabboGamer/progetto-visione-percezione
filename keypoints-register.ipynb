{
 "cells": [
  {
   "cell_type": "code",
   "execution_count": 1,
   "id": "1b839e26",
   "metadata": {},
   "outputs": [],
   "source": [
    "import sys\n",
    "import os\n",
    "import json\n",
    "\n",
    "sys.path.insert(1, 'litepose-pose-estimation/src')\n",
    "\n",
    "from lp_coco_utils.lp_getDataset import getDatasetProcessed\n",
    "from lp_training.lp_trainer import train\n",
    "from lp_model.lp_litepose import LitePose\n",
    "from lp_inference.lp_inference import inference, assocEmbedding\n",
    "from lp_utils.lp_image_processing import drawHeatmap, drawKeypoints, drawSkeleton\n",
    "from lp_testing.lp_evaluate import evaluateModel\n",
    "\n",
    "import lp_config.lp_common_config as cc\n",
    "import torch\n",
    "import cv2\n",
    "\n",
    "from thop import profile\n",
    "\n",
    "from PIL import Image\n",
    "import matplotlib.pyplot as plt\n",
    "from urllib.request import urlopen\n",
    "\n",
    "from torchvision import transforms"
   ]
  },
  {
   "cell_type": "code",
   "execution_count": 2,
   "id": "7ae7e7e9",
   "metadata": {},
   "outputs": [],
   "source": [
    "# Leggo il file di configurazione\n",
    "with open('config/config.json') as f:\n",
    "    config_data = json.load(f)\n",
    "\n",
    "# Ottengo i percorsi dei file\n",
    "file_path_big_arch = config_data['path_big_arch']"
   ]
  },
  {
   "cell_type": "code",
   "execution_count": 3,
   "id": "aeff6c40",
   "metadata": {},
   "outputs": [
    {
     "ename": "RuntimeError",
     "evalue": "Error(s) in loading state_dict for LitePose:\n\tsize mismatch for refineFinal.0.1.0.weight: copying a param with shape torch.Size([28, 24, 5, 5]) from checkpoint, the shape in current model is torch.Size([14, 24, 5, 5]).\n\tsize mismatch for refineFinal.0.1.1.weight: copying a param with shape torch.Size([28]) from checkpoint, the shape in current model is torch.Size([14]).\n\tsize mismatch for refineFinal.0.1.1.bias: copying a param with shape torch.Size([28]) from checkpoint, the shape in current model is torch.Size([14]).\n\tsize mismatch for refineFinal.0.1.1.running_mean: copying a param with shape torch.Size([28]) from checkpoint, the shape in current model is torch.Size([14]).\n\tsize mismatch for refineFinal.0.1.1.running_var: copying a param with shape torch.Size([28]) from checkpoint, the shape in current model is torch.Size([14]).\n\tsize mismatch for refineFinal.1.1.0.weight: copying a param with shape torch.Size([28, 24, 5, 5]) from checkpoint, the shape in current model is torch.Size([14, 24, 5, 5]).\n\tsize mismatch for refineFinal.1.1.1.weight: copying a param with shape torch.Size([28]) from checkpoint, the shape in current model is torch.Size([14]).\n\tsize mismatch for refineFinal.1.1.1.bias: copying a param with shape torch.Size([28]) from checkpoint, the shape in current model is torch.Size([14]).\n\tsize mismatch for refineFinal.1.1.1.running_mean: copying a param with shape torch.Size([28]) from checkpoint, the shape in current model is torch.Size([14]).\n\tsize mismatch for refineFinal.1.1.1.running_var: copying a param with shape torch.Size([28]) from checkpoint, the shape in current model is torch.Size([14]).\n\tsize mismatch for loopFinal.0.1.0.weight: copying a param with shape torch.Size([28, 24, 5, 5]) from checkpoint, the shape in current model is torch.Size([14, 24, 5, 5]).\n\tsize mismatch for loopFinal.0.1.1.weight: copying a param with shape torch.Size([28]) from checkpoint, the shape in current model is torch.Size([14]).\n\tsize mismatch for loopFinal.0.1.1.bias: copying a param with shape torch.Size([28]) from checkpoint, the shape in current model is torch.Size([14]).\n\tsize mismatch for loopFinal.0.1.1.running_mean: copying a param with shape torch.Size([28]) from checkpoint, the shape in current model is torch.Size([14]).\n\tsize mismatch for loopFinal.0.1.1.running_var: copying a param with shape torch.Size([28]) from checkpoint, the shape in current model is torch.Size([14]).\n\tsize mismatch for loopFinal.1.1.0.weight: copying a param with shape torch.Size([28, 16, 5, 5]) from checkpoint, the shape in current model is torch.Size([14, 16, 5, 5]).\n\tsize mismatch for loopFinal.1.1.1.weight: copying a param with shape torch.Size([28]) from checkpoint, the shape in current model is torch.Size([14]).\n\tsize mismatch for loopFinal.1.1.1.bias: copying a param with shape torch.Size([28]) from checkpoint, the shape in current model is torch.Size([14]).\n\tsize mismatch for loopFinal.1.1.1.running_mean: copying a param with shape torch.Size([28]) from checkpoint, the shape in current model is torch.Size([14]).\n\tsize mismatch for loopFinal.1.1.1.running_var: copying a param with shape torch.Size([28]) from checkpoint, the shape in current model is torch.Size([14]).",
     "output_type": "error",
     "traceback": [
      "\u001b[1;31m---------------------------------------------------------------------------\u001b[0m",
      "\u001b[1;31mRuntimeError\u001b[0m                              Traceback (most recent call last)",
      "Cell \u001b[1;32mIn[3], line 4\u001b[0m\n\u001b[0;32m      1\u001b[0m \u001b[38;5;66;03m# Carico il modello già addestrato\u001b[39;00m\n\u001b[0;32m      3\u001b[0m model \u001b[38;5;241m=\u001b[39m LitePose()\u001b[38;5;241m.\u001b[39mto(cc\u001b[38;5;241m.\u001b[39mconfig[\u001b[38;5;124m\"\u001b[39m\u001b[38;5;124mdevice\u001b[39m\u001b[38;5;124m\"\u001b[39m])\n\u001b[1;32m----> 4\u001b[0m \u001b[43mmodel\u001b[49m\u001b[38;5;241;43m.\u001b[39;49m\u001b[43mload_state_dict\u001b[49m\u001b[43m(\u001b[49m\u001b[43mtorch\u001b[49m\u001b[38;5;241;43m.\u001b[39;49m\u001b[43mload\u001b[49m\u001b[43m(\u001b[49m\u001b[43mfile_path_big_arch\u001b[49m\u001b[43m,\u001b[49m\u001b[43m \u001b[49m\u001b[43mmap_location\u001b[49m\u001b[38;5;241;43m=\u001b[39;49m\u001b[43mcc\u001b[49m\u001b[38;5;241;43m.\u001b[39;49m\u001b[43mconfig\u001b[49m\u001b[43m[\u001b[49m\u001b[38;5;124;43m\"\u001b[39;49m\u001b[38;5;124;43mdevice\u001b[39;49m\u001b[38;5;124;43m\"\u001b[39;49m\u001b[43m]\u001b[49m\u001b[43m)\u001b[49m\u001b[43m)\u001b[49m\n",
      "File \u001b[1;32mC:\\ProgramData\\anaconda3\\envs\\visione-percezione\\lib\\site-packages\\torch\\nn\\modules\\module.py:1671\u001b[0m, in \u001b[0;36mModule.load_state_dict\u001b[1;34m(self, state_dict, strict)\u001b[0m\n\u001b[0;32m   1666\u001b[0m         error_msgs\u001b[38;5;241m.\u001b[39minsert(\n\u001b[0;32m   1667\u001b[0m             \u001b[38;5;241m0\u001b[39m, \u001b[38;5;124m'\u001b[39m\u001b[38;5;124mMissing key(s) in state_dict: \u001b[39m\u001b[38;5;132;01m{}\u001b[39;00m\u001b[38;5;124m. \u001b[39m\u001b[38;5;124m'\u001b[39m\u001b[38;5;241m.\u001b[39mformat(\n\u001b[0;32m   1668\u001b[0m                 \u001b[38;5;124m'\u001b[39m\u001b[38;5;124m, \u001b[39m\u001b[38;5;124m'\u001b[39m\u001b[38;5;241m.\u001b[39mjoin(\u001b[38;5;124m'\u001b[39m\u001b[38;5;124m\"\u001b[39m\u001b[38;5;132;01m{}\u001b[39;00m\u001b[38;5;124m\"\u001b[39m\u001b[38;5;124m'\u001b[39m\u001b[38;5;241m.\u001b[39mformat(k) \u001b[38;5;28;01mfor\u001b[39;00m k \u001b[38;5;129;01min\u001b[39;00m missing_keys)))\n\u001b[0;32m   1670\u001b[0m \u001b[38;5;28;01mif\u001b[39;00m \u001b[38;5;28mlen\u001b[39m(error_msgs) \u001b[38;5;241m>\u001b[39m \u001b[38;5;241m0\u001b[39m:\n\u001b[1;32m-> 1671\u001b[0m     \u001b[38;5;28;01mraise\u001b[39;00m \u001b[38;5;167;01mRuntimeError\u001b[39;00m(\u001b[38;5;124m'\u001b[39m\u001b[38;5;124mError(s) in loading state_dict for \u001b[39m\u001b[38;5;132;01m{}\u001b[39;00m\u001b[38;5;124m:\u001b[39m\u001b[38;5;130;01m\\n\u001b[39;00m\u001b[38;5;130;01m\\t\u001b[39;00m\u001b[38;5;132;01m{}\u001b[39;00m\u001b[38;5;124m'\u001b[39m\u001b[38;5;241m.\u001b[39mformat(\n\u001b[0;32m   1672\u001b[0m                        \u001b[38;5;28mself\u001b[39m\u001b[38;5;241m.\u001b[39m\u001b[38;5;18m__class__\u001b[39m\u001b[38;5;241m.\u001b[39m\u001b[38;5;18m__name__\u001b[39m, \u001b[38;5;124m\"\u001b[39m\u001b[38;5;130;01m\\n\u001b[39;00m\u001b[38;5;130;01m\\t\u001b[39;00m\u001b[38;5;124m\"\u001b[39m\u001b[38;5;241m.\u001b[39mjoin(error_msgs)))\n\u001b[0;32m   1673\u001b[0m \u001b[38;5;28;01mreturn\u001b[39;00m _IncompatibleKeys(missing_keys, unexpected_keys)\n",
      "\u001b[1;31mRuntimeError\u001b[0m: Error(s) in loading state_dict for LitePose:\n\tsize mismatch for refineFinal.0.1.0.weight: copying a param with shape torch.Size([28, 24, 5, 5]) from checkpoint, the shape in current model is torch.Size([14, 24, 5, 5]).\n\tsize mismatch for refineFinal.0.1.1.weight: copying a param with shape torch.Size([28]) from checkpoint, the shape in current model is torch.Size([14]).\n\tsize mismatch for refineFinal.0.1.1.bias: copying a param with shape torch.Size([28]) from checkpoint, the shape in current model is torch.Size([14]).\n\tsize mismatch for refineFinal.0.1.1.running_mean: copying a param with shape torch.Size([28]) from checkpoint, the shape in current model is torch.Size([14]).\n\tsize mismatch for refineFinal.0.1.1.running_var: copying a param with shape torch.Size([28]) from checkpoint, the shape in current model is torch.Size([14]).\n\tsize mismatch for refineFinal.1.1.0.weight: copying a param with shape torch.Size([28, 24, 5, 5]) from checkpoint, the shape in current model is torch.Size([14, 24, 5, 5]).\n\tsize mismatch for refineFinal.1.1.1.weight: copying a param with shape torch.Size([28]) from checkpoint, the shape in current model is torch.Size([14]).\n\tsize mismatch for refineFinal.1.1.1.bias: copying a param with shape torch.Size([28]) from checkpoint, the shape in current model is torch.Size([14]).\n\tsize mismatch for refineFinal.1.1.1.running_mean: copying a param with shape torch.Size([28]) from checkpoint, the shape in current model is torch.Size([14]).\n\tsize mismatch for refineFinal.1.1.1.running_var: copying a param with shape torch.Size([28]) from checkpoint, the shape in current model is torch.Size([14]).\n\tsize mismatch for loopFinal.0.1.0.weight: copying a param with shape torch.Size([28, 24, 5, 5]) from checkpoint, the shape in current model is torch.Size([14, 24, 5, 5]).\n\tsize mismatch for loopFinal.0.1.1.weight: copying a param with shape torch.Size([28]) from checkpoint, the shape in current model is torch.Size([14]).\n\tsize mismatch for loopFinal.0.1.1.bias: copying a param with shape torch.Size([28]) from checkpoint, the shape in current model is torch.Size([14]).\n\tsize mismatch for loopFinal.0.1.1.running_mean: copying a param with shape torch.Size([28]) from checkpoint, the shape in current model is torch.Size([14]).\n\tsize mismatch for loopFinal.0.1.1.running_var: copying a param with shape torch.Size([28]) from checkpoint, the shape in current model is torch.Size([14]).\n\tsize mismatch for loopFinal.1.1.0.weight: copying a param with shape torch.Size([28, 16, 5, 5]) from checkpoint, the shape in current model is torch.Size([14, 16, 5, 5]).\n\tsize mismatch for loopFinal.1.1.1.weight: copying a param with shape torch.Size([28]) from checkpoint, the shape in current model is torch.Size([14]).\n\tsize mismatch for loopFinal.1.1.1.bias: copying a param with shape torch.Size([28]) from checkpoint, the shape in current model is torch.Size([14]).\n\tsize mismatch for loopFinal.1.1.1.running_mean: copying a param with shape torch.Size([28]) from checkpoint, the shape in current model is torch.Size([14]).\n\tsize mismatch for loopFinal.1.1.1.running_var: copying a param with shape torch.Size([28]) from checkpoint, the shape in current model is torch.Size([14])."
     ]
    }
   ],
   "source": [
    "# Carico il modello già addestrato\n",
    "\n",
    "model = LitePose().to(cc.config[\"device\"])\n",
    "model.load_state_dict(torch.load(file_path_big_arch, map_location=cc.config[\"device\"]))"
   ]
  },
  {
   "cell_type": "code",
   "execution_count": null,
   "id": "1672f7da",
   "metadata": {},
   "outputs": [],
   "source": [
    "url = 'https://web.unibas.it/bloisi/assets/images/bloisi_nao.jpg'\n",
    "\n",
    "img = Image.open(urlopen(url)).convert('RGB')\n",
    "plt.grid(False)\n",
    "_= plt.imshow(img)"
   ]
  },
  {
   "cell_type": "code",
   "execution_count": 5,
   "id": "7af7b949",
   "metadata": {},
   "outputs": [
    {
     "ename": "NameError",
     "evalue": "name 'img' is not defined",
     "output_type": "error",
     "traceback": [
      "\u001b[1;31m---------------------------------------------------------------------------\u001b[0m",
      "\u001b[1;31mNameError\u001b[0m                                 Traceback (most recent call last)",
      "Cell \u001b[1;32mIn[5], line 3\u001b[0m\n\u001b[0;32m      1\u001b[0m \u001b[38;5;66;03m# set up transformation to resize the image\u001b[39;00m\n\u001b[0;32m      2\u001b[0m resize \u001b[38;5;241m=\u001b[39m transforms\u001b[38;5;241m.\u001b[39mResize([\u001b[38;5;241m224\u001b[39m, \u001b[38;5;241m224\u001b[39m])\n\u001b[1;32m----> 3\u001b[0m img \u001b[38;5;241m=\u001b[39m resize(\u001b[43mimg\u001b[49m)\n\u001b[0;32m      4\u001b[0m to_tensor \u001b[38;5;241m=\u001b[39m transforms\u001b[38;5;241m.\u001b[39mToTensor()\n\u001b[0;32m      6\u001b[0m \u001b[38;5;66;03m# apply transformation and convert to Pytorch tensor\u001b[39;00m\n",
      "\u001b[1;31mNameError\u001b[0m: name 'img' is not defined"
     ]
    }
   ],
   "source": [
    "# set up transformation to resize the image\n",
    "resize = transforms.Resize([224, 224])\n",
    "img = resize(img)\n",
    "to_tensor = transforms.ToTensor()\n",
    "\n",
    "# apply transformation and convert to Pytorch tensor\n",
    "tensor = to_tensor(img)\n",
    "# torch.Size([3, 224, 224])\n",
    "\n",
    "# add another dimension at the front to get NCHW shape\n",
    "tensor = tensor.unsqueeze(0)\n",
    "# torch.Size([1, 3, 224, 224])"
   ]
  },
  {
   "cell_type": "code",
   "execution_count": 4,
   "id": "3313d4be",
   "metadata": {},
   "outputs": [
    {
     "ename": "NameError",
     "evalue": "name 'tensor' is not defined",
     "output_type": "error",
     "traceback": [
      "\u001b[1;31m---------------------------------------------------------------------------\u001b[0m",
      "\u001b[1;31mNameError\u001b[0m                                 Traceback (most recent call last)",
      "Cell \u001b[1;32mIn[4], line 1\u001b[0m\n\u001b[1;32m----> 1\u001b[0m output, keypoints \u001b[38;5;241m=\u001b[39m inference(model, \u001b[43mtensor\u001b[49m)\n\u001b[0;32m      2\u001b[0m embedding \u001b[38;5;241m=\u001b[39m assocEmbedding(keypoints)\n",
      "\u001b[1;31mNameError\u001b[0m: name 'tensor' is not defined"
     ]
    }
   ],
   "source": [
    "output, keypoints = inference(model, tensor)\n",
    "embedding = assocEmbedding(keypoints)"
   ]
  },
  {
   "cell_type": "code",
   "execution_count": null,
   "id": "f0281292",
   "metadata": {},
   "outputs": [],
   "source": [
    "idx = 0\n",
    "img = drawKeypoints(tensor[idx], keypoints[idx])\n",
    "cv2.imshow(\"Image Keypoints\", img)\n",
    "cv2.waitKey()\n",
    "cv2.destroyAllWindows()"
   ]
  },
  {
   "cell_type": "code",
   "execution_count": null,
   "id": "84bd98b6",
   "metadata": {},
   "outputs": [],
   "source": []
  }
 ],
 "metadata": {
  "kernelspec": {
   "display_name": "Python 3 (ipykernel)",
   "language": "python",
   "name": "python3"
  },
  "language_info": {
   "codemirror_mode": {
    "name": "ipython",
    "version": 3
   },
   "file_extension": ".py",
   "mimetype": "text/x-python",
   "name": "python",
   "nbconvert_exporter": "python",
   "pygments_lexer": "ipython3",
   "version": "3.8.16"
  }
 },
 "nbformat": 4,
 "nbformat_minor": 5
}
